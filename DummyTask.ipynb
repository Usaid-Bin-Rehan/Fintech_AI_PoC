{
  "nbformat": 4,
  "nbformat_minor": 0,
  "metadata": {
    "colab": {
      "provenance": [],
      "toc_visible": true
    },
    "kernelspec": {
      "name": "python3",
      "display_name": "Python 3"
    },
    "language_info": {
      "name": "python"
    }
  },
  "cells": [
    {
      "cell_type": "markdown",
      "source": [
        "## Variables"
      ],
      "metadata": {
        "id": "9F_Ybyi-e2ZB"
      }
    },
    {
      "cell_type": "code",
      "source": [
        "var = 1\n",
        "type(var)"
      ],
      "metadata": {
        "colab": {
          "base_uri": "https://localhost:8080/"
        },
        "id": "-0omPdOQe2ut",
        "outputId": "eeef6bc5-7404-4b16-94e6-efa1f9dcfaeb"
      },
      "execution_count": 21,
      "outputs": [
        {
          "output_type": "execute_result",
          "data": {
            "text/plain": [
              "int"
            ]
          },
          "metadata": {},
          "execution_count": 21
        }
      ]
    },
    {
      "cell_type": "markdown",
      "source": [],
      "metadata": {
        "id": "ss-sIy64e29V"
      }
    },
    {
      "cell_type": "code",
      "source": [
        "# var\n",
        "var1 = 10\n",
        "var2 = 3\n",
        "\n",
        "print(var1 % var2)"
      ],
      "metadata": {
        "colab": {
          "base_uri": "https://localhost:8080/"
        },
        "id": "I0xNbNlaV5Z1",
        "outputId": "ec901858-ca5c-4a38-b007-ed12ce4dbbaf"
      },
      "execution_count": 36,
      "outputs": [
        {
          "output_type": "stream",
          "name": "stdout",
          "text": [
            "1\n"
          ]
        }
      ]
    },
    {
      "cell_type": "code",
      "source": [
        "number = 0\n",
        "flag = False\n",
        "\n",
        "if (number == 0):\n",
        "  flag = True\n",
        "elif (number == 1):\n",
        "  flag = False\n",
        "else:\n",
        "  flag = False\n",
        "\n",
        "print(flag)"
      ],
      "metadata": {
        "colab": {
          "base_uri": "https://localhost:8080/"
        },
        "id": "BjyZFbC_TR1c",
        "outputId": "18ed1c5e-9fa2-4d22-ea8f-e01c55978299"
      },
      "execution_count": 45,
      "outputs": [
        {
          "output_type": "stream",
          "name": "stdout",
          "text": [
            "True\n"
          ]
        }
      ]
    },
    {
      "cell_type": "code",
      "source": [
        "# Measure some strings:\n",
        "\n",
        "words = ['cat', 'window', 'defenestrate', 'my']\n",
        "for w in words:\n",
        "  if (w== 'cat'):\n",
        "    w = \"dog\"\n",
        "    print (w)\n",
        "  else:\n",
        "    print(w)\n"
      ],
      "metadata": {
        "colab": {
          "base_uri": "https://localhost:8080/"
        },
        "id": "DmGN0iAhTUAZ",
        "outputId": "ebeb5ada-0724-42ea-8cdf-6de9239e997c"
      },
      "execution_count": 10,
      "outputs": [
        {
          "output_type": "stream",
          "name": "stdout",
          "text": [
            "dog\n",
            "window\n",
            "defenestrate\n",
            "my\n"
          ]
        }
      ]
    },
    {
      "cell_type": "code",
      "source": [
        "myNum1 = [1,2,3],[4,5,6],[7,8,9,10]\n",
        "\n",
        "for row in myNum1:\n",
        "  for element in row:\n",
        "    print(element)"
      ],
      "metadata": {
        "colab": {
          "base_uri": "https://localhost:8080/"
        },
        "id": "Rjvc6vEDcnae",
        "outputId": "70872d50-d56a-457a-fee1-63addb2b3abe"
      },
      "execution_count": 20,
      "outputs": [
        {
          "output_type": "stream",
          "name": "stdout",
          "text": [
            "1\n",
            "2\n",
            "3\n",
            "4\n",
            "5\n",
            "6\n",
            "7\n",
            "8\n",
            "9\n",
            "10\n"
          ]
        }
      ]
    }
  ]
}